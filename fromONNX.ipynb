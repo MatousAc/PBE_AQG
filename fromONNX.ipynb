{
 "cells": [
  {
   "attachments": {},
   "cell_type": "markdown",
   "metadata": {},
   "source": [
    "# Running an ONNX model\n",
    "In this section I try out loading and running an ONNX model.\n",
    "\n",
    "First we load and czech the model."
   ]
  },
  {
   "cell_type": "code",
   "execution_count": 2,
   "metadata": {},
   "outputs": [],
   "source": [
    "import onnx\n",
    "onnx_model = onnx.load(\"onnxModel/potsawee.onnx\")\n",
    "onnx.checker.check_model(\"onnxModel/potsawee.onnx\")"
   ]
  },
  {
   "attachments": {},
   "cell_type": "markdown",
   "metadata": {},
   "source": [
    "create inference session with `ort.infernnce`\n",
    "\n",
    "An inference session is, idk."
   ]
  },
  {
   "cell_type": "code",
   "execution_count": null,
   "metadata": {},
   "outputs": [],
   "source": [
    "import onnxruntime as ort\n",
    "import numpy as np\n",
    "ort_sess = ort.InferenceSession('ag_news_model.onnx')\n",
    "outputs = ort_sess.run(None, {'input': text.numpy(),\n",
    "                            'offsets':  torch.tensor([0]).numpy()})\n",
    "# Print Result\n",
    "result = outputs[0].argmax(axis=1)+1\n",
    "print(\"This is a %s news\" %ag_news_label[result[0]])\n"
   ]
  }
 ],
 "metadata": {
  "kernelspec": {
   "display_name": "PBE_AQG",
   "language": "python",
   "name": "python3"
  },
  "language_info": {
   "codemirror_mode": {
    "name": "ipython",
    "version": 3
   },
   "file_extension": ".py",
   "mimetype": "text/x-python",
   "name": "python",
   "nbconvert_exporter": "python",
   "pygments_lexer": "ipython3",
   "version": "3.11.3"
  },
  "orig_nbformat": 4
 },
 "nbformat": 4,
 "nbformat_minor": 2
}
