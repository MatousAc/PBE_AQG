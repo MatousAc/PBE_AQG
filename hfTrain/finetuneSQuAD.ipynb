{
 "cells": [
  {
   "cell_type": "markdown",
   "id": "45c3ef31",
   "metadata": {},
   "source": [
    "# Fine-tuning Llama 2\n",
    "Below I use HF libraries to finetune Llama 2 on SQuAD. I use a locally saved base model. I pull my data from [lmqg/squad](https://huggingface.co/datasets/lmqg/qg_squad/viewer/qg_squad/train?row=0) on HF.\n",
    "\n",
    "Setup: Connect to SoC GPU servers. Install dependencies into a conda environment from `aqg_hf_cuda.yml`.\n",
    "Thanks to [brev.dev](https://github.com/brevdev/notebooks/tree/main) for some examples on how to do this."
   ]
  },
  {
   "cell_type": "code",
   "execution_count": 2,
   "id": "ceec8b54-af50-4b60-94d2-51c92d9f1dae",
   "metadata": {},
   "outputs": [
    {
     "data": {
      "application/vnd.jupyter.widget-view+json": {
       "model_id": "55d3ce06e8284e2fae5bee18c035a885",
       "version_major": 2,
       "version_minor": 0
      },
      "text/plain": [
       "VBox(children=(HTML(value='<center> <img\\nsrc=https://huggingface.co/front/assets/huggingface_logo-noborder.sv…"
      ]
     },
     "metadata": {},
     "output_type": "display_data"
    }
   ],
   "source": [
    "# import libraries\n",
    "\n",
    "# try to run this without using huggingface_hub\n",
    "# from huggingface_hub import notebook_login\n",
    "# notebook_login()\n",
    "\n",
    "import torch\n",
    "from datasets import load_dataset\n",
    "from transformers import AutoModelForCausalLM, BitsAndBytesConfig, AutoTokenizer, TrainingArguments \n",
    "from peft import LoraConfig\n",
    "from trl import SFTTrainer\n"
   ]
  },
  {
   "cell_type": "code",
   "execution_count": 3,
   "id": "94f4a914",
   "metadata": {},
   "outputs": [],
   "source": [
    "# globals\n",
    "models_dir = \"/home/ac/code/aqg/models\""
   ]
  },
  {
   "cell_type": "markdown",
   "id": "e04d7643",
   "metadata": {},
   "source": [
    "### Data\n",
    "Pull data with `datasets`. All you need is a `.jsonl` file."
   ]
  },
  {
   "cell_type": "code",
   "execution_count": 4,
   "id": "1ea88109",
   "metadata": {},
   "outputs": [],
   "source": [
    "# https://huggingface.co/datasets/lmqg/qg_squad\n",
    "SQuAD = load_dataset(\"lmqg/qg_squad\")\n",
    "print(SQuAD)"
   ]
  },
  {
   "cell_type": "code",
   "execution_count": 5,
   "id": "af00fa24",
   "metadata": {},
   "outputs": [],
   "source": [
    "train_dataset = SQuAD['train']\n",
    "eval_dataset = SQuAD['validation']"
   ]
  },
  {
   "cell_type": "code",
   "execution_count": 6,
   "id": "55043937",
   "metadata": {},
   "outputs": [],
   "source": [
    "# view our data\n",
    "print(train_dataset[0])"
   ]
  },
  {
   "cell_type": "code",
   "execution_count": 7,
   "id": "98725f29",
   "metadata": {},
   "outputs": [],
   "source": [
    "# define data processing functions that produce the actual untokenized input for various training phases\n",
    "\n",
    "def contextAnswer(example, i):\n",
    "  return f\"Select answer: {example['paragraph_sentence'][i]}\\n Answer: {example['answer'][i]}\"\n",
    "\n",
    "def answer(example):\n",
    "  return f\"Answer: {example['answer']}\"\n",
    "\n",
    "def processData(examples):\n",
    "  output_texts = []\n",
    "  for i in range(len(examples['answer'])):\n",
    "    text = contextAnswer(examples, i)\n",
    "    output_texts.append(text)\n",
    "  return output_texts\n"
   ]
  },
  {
   "cell_type": "markdown",
   "id": "cd7e38b3",
   "metadata": {},
   "source": [
    "## Model"
   ]
  },
  {
   "cell_type": "code",
   "execution_count": 8,
   "id": "67849376-1ca2-4ceb-9757-74b31e507e5b",
   "metadata": {},
   "outputs": [
    {
     "data": {
      "application/vnd.jupyter.widget-view+json": {
       "model_id": "27ea4bada59545a0b25c06bd1670d710",
       "version_major": 2,
       "version_minor": 0
      },
      "text/plain": [
       "Loading checkpoint shards:   0%|          | 0/3 [00:00<?, ?it/s]"
      ]
     },
     "metadata": {},
     "output_type": "display_data"
    }
   ],
   "source": [
    "base_model_location = f\"{models_dir}/llama-hf/7b\"\n",
    "\n",
    "bnb_config = BitsAndBytesConfig(\n",
    "  load_in_4bit=True,\n",
    "  # we leave the model quantized in 4 bits\n",
    "  bnb_4bit_quant_type=\"nf4\",\n",
    "  bnb_4bit_compute_dtype=torch.float16\n",
    ")\n",
    "\n",
    "# load our model\n",
    "base_model = AutoModelForCausalLM.from_pretrained(\n",
    "  base_model_location,\n",
    "  quantization_config=bnb_config,\n",
    "  device_map=\"auto\",\n",
    "  # research what this is and why i need/don't need it\n",
    "  # trust_remote_code=True,\n",
    "  # use_auth_token=True\n",
    ")\n",
    "base_model.config.use_cache = False\n",
    "\n",
    "# more info: https://github.com/huggingface/transformers/pull/24906\n",
    "base_model.config.pretraining_tp = 1 \n",
    "\n",
    "# load our tokenizer\n",
    "tokenizer = AutoTokenizer.from_pretrained(base_model_location)\n",
    "tokenizer.pad_token = tokenizer.eos_token"
   ]
  },
  {
   "cell_type": "code",
   "execution_count": null,
   "id": "5c83dee3",
   "metadata": {},
   "outputs": [],
   "source": [
    "# add custom tokens here\n",
    "new_tokens = [\"<hl>\"]\n",
    "vocabulary = tokenizer.get_vocab().keys()\n",
    "for token in new_tokens:\n",
    "    # check to see if new token is in the vocabulary or not\n",
    "    if token not in vocabulary:\n",
    "        tokenizer.add_tokens(token)\n",
    "\n",
    "base_model.resize_token_embeddings(len(tokenizer))"
   ]
  },
  {
   "cell_type": "markdown",
   "id": "132c2717",
   "metadata": {},
   "source": [
    "And setup a train so that we log, save and evaluate every 50 steps:"
   ]
  },
  {
   "cell_type": "code",
   "execution_count": 9,
   "id": "23aa1e98-34ee-44ba-878d-59c35b3a4b6b",
   "metadata": {},
   "outputs": [],
   "source": [
    "output_dir = f\"{models_dir}/output/7bTrainedWithHF\"\n",
    "\n",
    "# this sets up training\n",
    "# we log info (is this where we ask to connect to Weights & Biases?)\n",
    "# every 50 steps we save and evaluate\n",
    "training_args = TrainingArguments(\n",
    "    output_dir=output_dir,\n",
    "    per_device_train_batch_size=4,\n",
    "    gradient_accumulation_steps=4,\n",
    "    learning_rate=2e-4,\n",
    "    logging_steps=50,\n",
    "    max_steps=100, # how much training we want to do\n",
    "    logging_dir=f\"{output_dir}/logs\", # directory for storing logs\n",
    "    # save the model checkpoint every logging step\n",
    "    save_strategy=\"steps\",\n",
    "    save_steps=50, # how often to save checkpoints\n",
    "    # evaluate the model every logging step\n",
    "    evaluation_strategy=\"steps\", # ??\n",
    "    eval_steps=100, # how often to pause for eval\n",
    "    do_eval=True # do eval at end\n",
    ")\n"
   ]
  },
  {
   "cell_type": "markdown",
   "id": "8c4f5edc",
   "metadata": {},
   "source": [
    "We set the config for the Lora adapter: "
   ]
  },
  {
   "cell_type": "code",
   "execution_count": 10,
   "id": "e790d479",
   "metadata": {},
   "outputs": [],
   "source": [
    "# what does this do?\n",
    "# we configure the Lora adapter\n",
    "peft_config = LoraConfig(\n",
    "    lora_alpha=16,\n",
    "    lora_dropout=0.1,\n",
    "    r=64,\n",
    "    bias=\"none\",\n",
    "    task_type=\"CAUSAL_LM\",\n",
    ")"
   ]
  },
  {
   "cell_type": "markdown",
   "id": "14d435a1",
   "metadata": {},
   "source": [
    "(I experimented with higher alpha and r - and found poorer results...)"
   ]
  },
  {
   "cell_type": "code",
   "execution_count": 11,
   "id": "8d8ab6ee-01ff-4ba6-83b3-56342eb5041a",
   "metadata": {},
   "outputs": [
    {
     "name": "stderr",
     "output_type": "stream",
     "text": [
      "/home/ac/miniconda3/envs/aqg_hf_cuda/lib/python3.11/site-packages/peft/utils/other.py:122: FutureWarning: prepare_model_for_int8_training is deprecated and will be removed in a future version. Use prepare_model_for_kbit_training instead.\n",
      "  warnings.warn(\n"
     ]
    }
   ],
   "source": [
    "# use the SFTTrainer from HuggingFace's trl\n",
    "max_seq_length = 512\n",
    "trainer = SFTTrainer(\n",
    "    model=base_model,\n",
    "    train_dataset=train_dataset,\n",
    "    eval_dataset=eval_dataset,\n",
    "    peft_config=peft_config,\n",
    "    formatting_func=processData,\n",
    "    max_seq_length=max_seq_length,\n",
    "    tokenizer=tokenizer,\n",
    "    args=training_args,\n",
    ")"
   ]
  },
  {
   "cell_type": "code",
   "execution_count": 12,
   "id": "2eaa0324",
   "metadata": {},
   "outputs": [
    {
     "name": "stderr",
     "output_type": "stream",
     "text": [
      "Failed to detect the name of this notebook, you can set it manually with the WANDB_NOTEBOOK_NAME environment variable to enable code saving.\n",
      "\u001b[34m\u001b[1mwandb\u001b[0m: Logging into wandb.ai. (Learn how to deploy a W&B server locally: https://wandb.me/wandb-server)\n",
      "\u001b[34m\u001b[1mwandb\u001b[0m: You can find your API key in your browser here: https://wandb.ai/authorize\n",
      "\u001b[34m\u001b[1mwandb\u001b[0m: Paste an API key from your profile and hit enter, or press ctrl+c to quit:\u001b[34m\u001b[1mwandb\u001b[0m: Paste an API key from your profile and hit enter, or press ctrl+c to quit:\u001b[34m\u001b[1mwandb\u001b[0m: \u001b[32m\u001b[41mERROR\u001b[0m API key must be 40 characters long, yours was 37\n",
      "\u001b[34m\u001b[1mwandb\u001b[0m: Logging into wandb.ai. (Learn how to deploy a W&B server locally: https://wandb.me/wandb-server)\n",
      "\u001b[34m\u001b[1mwandb\u001b[0m: You can find your API key in your browser here: https://wandb.ai/authorize\n",
      "\u001b[34m\u001b[1mwandb\u001b[0m: Paste an API key from your profile and hit enter, or press ctrl+c to quit:\u001b[34m\u001b[1mwandb\u001b[0m: Appending key for api.wandb.ai to your netrc file: /home/ac/.netrc\n"
     ]
    },
    {
     "data": {
      "text/html": [
       "Tracking run with wandb version 0.15.12"
      ],
      "text/plain": [
       "<IPython.core.display.HTML object>"
      ]
     },
     "metadata": {},
     "output_type": "display_data"
    },
    {
     "data": {
      "text/html": [
       "Run data is saved locally in <code>/home/ac/code/aqg/hfTrain/wandb/run-20231005_170632-b2agp8hd</code>"
      ],
      "text/plain": [
       "<IPython.core.display.HTML object>"
      ]
     },
     "metadata": {},
     "output_type": "display_data"
    },
    {
     "data": {
      "text/html": [
       "Syncing run <strong><a href='https://wandb.ai/pbe_qag/huggingface/runs/b2agp8hd' target=\"_blank\">youthful-bird-1</a></strong> to <a href='https://wandb.ai/pbe_qag/huggingface' target=\"_blank\">Weights & Biases</a> (<a href='https://wandb.me/run' target=\"_blank\">docs</a>)<br/>"
      ],
      "text/plain": [
       "<IPython.core.display.HTML object>"
      ]
     },
     "metadata": {},
     "output_type": "display_data"
    },
    {
     "data": {
      "text/html": [
       " View project at <a href='https://wandb.ai/pbe_qag/huggingface' target=\"_blank\">https://wandb.ai/pbe_qag/huggingface</a>"
      ],
      "text/plain": [
       "<IPython.core.display.HTML object>"
      ]
     },
     "metadata": {},
     "output_type": "display_data"
    },
    {
     "data": {
      "text/html": [
       " View run at <a href='https://wandb.ai/pbe_qag/huggingface/runs/b2agp8hd' target=\"_blank\">https://wandb.ai/pbe_qag/huggingface/runs/b2agp8hd</a>"
      ],
      "text/plain": [
       "<IPython.core.display.HTML object>"
      ]
     },
     "metadata": {},
     "output_type": "display_data"
    },
    {
     "name": "stderr",
     "output_type": "stream",
     "text": [
      "You're using a LlamaTokenizerFast tokenizer. Please note that with a fast tokenizer, using the `__call__` method is faster than using a method to encode the text followed by a call to the `pad` method to get a padded encoding.\n"
     ]
    },
    {
     "data": {
      "text/html": [
       "\n",
       "    <div>\n",
       "      \n",
       "      <progress value='151' max='1000' style='width:300px; height:20px; vertical-align: middle;'></progress>\n",
       "      [ 151/1000 3:27:29 < 19:42:18, 0.01 it/s, Epoch 0.03/1]\n",
       "    </div>\n",
       "    <table border=\"1\" class=\"dataframe\">\n",
       "  <thead>\n",
       " <tr style=\"text-align: left;\">\n",
       "      <th>Step</th>\n",
       "      <th>Training Loss</th>\n",
       "      <th>Validation Loss</th>\n",
       "    </tr>\n",
       "  </thead>\n",
       "  <tbody>\n",
       "    <tr>\n",
       "      <td>50</td>\n",
       "      <td>1.826000</td>\n",
       "      <td>1.689577</td>\n",
       "    </tr>\n",
       "    <tr>\n",
       "      <td>100</td>\n",
       "      <td>1.664100</td>\n",
       "      <td>1.671155</td>\n",
       "    </tr>\n",
       "  </tbody>\n",
       "</table><p>\n",
       "    <div>\n",
       "      \n",
       "      <progress value='356' max='1322' style='width:300px; height:20px; vertical-align: middle;'></progress>\n",
       "      [ 356/1322 17:26 < 47:26, 0.34 it/s]\n",
       "    </div>\n",
       "    "
      ],
      "text/plain": [
       "<IPython.core.display.HTML object>"
      ]
     },
     "metadata": {},
     "output_type": "display_data"
    }
   ],
   "source": [
    "# pass in resume_from_checkpoint=True to resume from a checkpoint\n",
    "# when we train, we can see our progress and system info on wandb.ai\n",
    "trainer.train()"
   ]
  },
  {
   "cell_type": "markdown",
   "id": "bbd2eb12",
   "metadata": {},
   "source": [
    "## Running inference on a trained model\n",
    "By default, the PEFT library will only save the Qlora adapters. So we need to load the base Llama 2 model from the Huggingface Hub:"
   ]
  },
  {
   "cell_type": "code",
   "execution_count": null,
   "id": "9ffa68cb",
   "metadata": {},
   "outputs": [],
   "source": [
    "import torch\n",
    "from transformers import AutoModelForCausalLM, BitsAndBytesConfig, AutoTokenizer\n",
    "from peft import PeftModel"
   ]
  },
  {
   "cell_type": "code",
   "execution_count": null,
   "id": "f3ef1487",
   "metadata": {},
   "outputs": [],
   "source": [
    "base_model_name=\"meta-llama/Llama-2-7b-hf\"\n",
    "bnb_config = BitsAndBytesConfig(\n",
    "    load_in_4bit=True,\n",
    "    bnb_4bit_quant_type=\"nf4\",\n",
    "    bnb_4bit_compute_dtype=torch.float16,\n",
    ")\n",
    "base_model = AutoModelForCausalLM.from_pretrained(\n",
    "    base_model_name,\n",
    "    quantization_config=bnb_config,\n",
    "    device_map=\"auto\",\n",
    "    trust_remote_code=True,\n",
    "    use_auth_token=True\n",
    ")"
   ]
  },
  {
   "cell_type": "code",
   "execution_count": null,
   "id": "e0fc2d8d",
   "metadata": {},
   "outputs": [],
   "source": [
    "tokenizer = AutoTokenizer.from_pretrained(base_model_name, trust_remote_code=True)\n",
    "tokenizer.pad_token = tokenizer.eos_token"
   ]
  },
  {
   "cell_type": "markdown",
   "id": "a6b0caf6",
   "metadata": {},
   "source": [
    "and load the qlora adapter from a checkpoint directory:"
   ]
  },
  {
   "cell_type": "code",
   "execution_count": null,
   "id": "93beb968",
   "metadata": {},
   "outputs": [],
   "source": [
    "model = PeftModel.from_pretrained(base_model, \"/root/llama2sfft-testing/Llama-2-7b-hf-qlora-full-dataset/checkpoint-900\")"
   ]
  },
  {
   "cell_type": "markdown",
   "id": "55e17d1c",
   "metadata": {},
   "source": [
    "then run some inference:"
   ]
  },
  {
   "cell_type": "code",
   "execution_count": null,
   "id": "a62e7470",
   "metadata": {},
   "outputs": [],
   "source": [
    "eval_prompt = \"\"\"A note has the following\\nTitle: \\nLabels: \\nContent: i love\"\"\"\n",
    "\n",
    "model_input = tokenizer(eval_prompt, return_tensors=\"pt\").to(\"cuda\")\n",
    "\n",
    "model.eval()\n",
    "with torch.no_grad():\n",
    "    print(tokenizer.decode(model.generate(**model_input, max_new_tokens=100)[0], skip_special_tokens=True))"
   ]
  }
 ],
 "metadata": {
  "kernelspec": {
   "display_name": "Python 3 (ipykernel)",
   "language": "python",
   "name": "python3"
  },
  "language_info": {
   "codemirror_mode": {
    "name": "ipython",
    "version": 3
   },
   "file_extension": ".py",
   "mimetype": "text/x-python",
   "name": "python",
   "nbconvert_exporter": "python",
   "pygments_lexer": "ipython3",
   "version": "3.11.5"
  }
 },
 "nbformat": 4,
 "nbformat_minor": 5
}
