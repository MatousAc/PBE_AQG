{
 "cells": [
  {
   "cell_type": "code",
   "execution_count": 1,
   "metadata": {},
   "outputs": [
    {
     "name": "stderr",
     "output_type": "stream",
     "text": [
      "c:\\Users\\mashu\\miniconda3\\envs\\fastT5\\lib\\site-packages\\tqdm\\auto.py:21: TqdmWarning: IProgress not found. Please update jupyter and ipywidgets. See https://ipywidgets.readthedocs.io/en/stable/user_install.html\n",
      "  from .autonotebook import tqdm as notebook_tqdm\n"
     ]
    },
    {
     "ename": "AssertionError",
     "evalue": "all or some models don't exists in the model folder, first convert the model! ",
     "output_type": "error",
     "traceback": [
      "\u001b[1;31m---------------------------------------------------------------------------\u001b[0m",
      "\u001b[1;31mAssertionError\u001b[0m                            Traceback (most recent call last)",
      "Cell \u001b[1;32mIn[1], line 5\u001b[0m\n\u001b[0;32m      2\u001b[0m \u001b[39mfrom\u001b[39;00m \u001b[39mtransformers\u001b[39;00m \u001b[39mimport\u001b[39;00m AutoTokenizer\n\u001b[0;32m      4\u001b[0m onnxPath \u001b[39m=\u001b[39m \u001b[39m\"\u001b[39m\u001b[39m../onnx/fastT5/\u001b[39m\u001b[39m\"\u001b[39m\n\u001b[1;32m----> 5\u001b[0m model \u001b[39m=\u001b[39m get_onnx_model(onnxPath, quantized\u001b[39m=\u001b[39;49m\u001b[39mFalse\u001b[39;49;00m)\n\u001b[0;32m      7\u001b[0m tokenizer \u001b[39m=\u001b[39m AutoTokenizer\u001b[39m.\u001b[39mfrom_pretrained(onnxPath)\n\u001b[0;32m      8\u001b[0m verse \u001b[39m=\u001b[39m \u001b[39m\"\u001b[39m\u001b[39mIn the beginning, God created the heavens and the earth.\u001b[39m\u001b[39m\"\u001b[39m\n",
      "File \u001b[1;32mc:\\Users\\mashu\\miniconda3\\envs\\fastT5\\lib\\site-packages\\fastT5\\onnx_models.py:254\u001b[0m, in \u001b[0;36mget_onnx_model\u001b[1;34m(model_name, onnx_models_path, quantized)\u001b[0m\n\u001b[0;32m    248\u001b[0m     \u001b[39massert\u001b[39;00m (\n\u001b[0;32m    249\u001b[0m         encoder_path\u001b[39m.\u001b[39mexists()\n\u001b[0;32m    250\u001b[0m         \u001b[39mand\u001b[39;00m decoder_path\u001b[39m.\u001b[39mexists()\n\u001b[0;32m    251\u001b[0m         \u001b[39mand\u001b[39;00m init_decoder_path\u001b[39m.\u001b[39mexists()\n\u001b[0;32m    252\u001b[0m     ), \u001b[39m\"\u001b[39m\u001b[39mquantized model don\u001b[39m\u001b[39m'\u001b[39m\u001b[39mt exist in the model folder, first quantize the model!\u001b[39m\u001b[39m\"\u001b[39m\n\u001b[0;32m    253\u001b[0m \u001b[39melse\u001b[39;00m:\n\u001b[1;32m--> 254\u001b[0m     \u001b[39massert\u001b[39;00m (\n\u001b[0;32m    255\u001b[0m         encoder_path\u001b[39m.\u001b[39mexists()\n\u001b[0;32m    256\u001b[0m         \u001b[39mand\u001b[39;00m decoder_path\u001b[39m.\u001b[39mexists()\n\u001b[0;32m    257\u001b[0m         \u001b[39mand\u001b[39;00m init_decoder_path\u001b[39m.\u001b[39mexists()\n\u001b[0;32m    258\u001b[0m     ), \u001b[39m\"\u001b[39m\u001b[39mall or some models don\u001b[39m\u001b[39m'\u001b[39m\u001b[39mt exists in the model folder, first convert the model! \u001b[39m\u001b[39m\"\u001b[39m\n\u001b[0;32m    260\u001b[0m model_paths \u001b[39m=\u001b[39m encoder_path, decoder_path, init_decoder_path\n\u001b[0;32m    262\u001b[0m model_sessions \u001b[39m=\u001b[39m get_onnx_runtime_sessions(model_paths)\n",
      "\u001b[1;31mAssertionError\u001b[0m: all or some models don't exists in the model folder, first convert the model! "
     ]
    }
   ],
   "source": [
    "from fastT5 import export_and_get_onnx_model, get_onnx_model\n",
    "from transformers import AutoTokenizer\n",
    "\n",
    "onnxPath = \"../onnx/fastT5/\"\n",
    "model = get_onnx_model(onnxPath, quantized=False)\n",
    "\n",
    "tokenizer = AutoTokenizer.from_pretrained(onnxPath)\n",
    "verse = \"In the beginning, God created the heavens and the earth.\"\n",
    "\n",
    "token = tokenizer(verse, return_tensors='pt')\n",
    "tokens = model.generate(input_ids=token['input_ids'], attention_mask=token['attention_mask'], num_beams=2)\n",
    "\n",
    "output = tokenizer.decode(tokens.squeeze(), skip_special_tokens=True)\n",
    "print(output)"
   ]
  }
 ],
 "metadata": {
  "kernelspec": {
   "display_name": "fastT5",
   "language": "python",
   "name": "python3"
  },
  "language_info": {
   "codemirror_mode": {
    "name": "ipython",
    "version": 3
   },
   "file_extension": ".py",
   "mimetype": "text/x-python",
   "name": "python",
   "nbconvert_exporter": "python",
   "pygments_lexer": "ipython3",
   "version": "3.9.16"
  },
  "orig_nbformat": 4
 },
 "nbformat": 4,
 "nbformat_minor": 2
}
