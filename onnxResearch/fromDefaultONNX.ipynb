{
 "cells": [
  {
   "attachments": {},
   "cell_type": "markdown",
   "metadata": {},
   "source": [
    "# Running an ONNX model\n",
    "## Note that this method does not currently work.\n",
    "In this section I try out loading and running an ONNX model.\n",
    "\n",
    "First we load and czech the model."
   ]
  },
  {
   "cell_type": "code",
   "execution_count": 5,
   "metadata": {},
   "outputs": [],
   "source": [
    "import onnx\n",
    "path = \"../onnx/default/potsawee.onnx\"\n",
    "onnx_model = onnx.load(path)\n",
    "onnx.checker.check_model(path)"
   ]
  },
  {
   "attachments": {},
   "cell_type": "markdown",
   "metadata": {},
   "source": [
    "create inference session with `ort.infernnce`\n",
    "\n",
    "An inference session is, idk."
   ]
  },
  {
   "cell_type": "code",
   "execution_count": 6,
   "metadata": {},
   "outputs": [],
   "source": [
    "import torch\n",
    "import onnxruntime as ort\n",
    "import numpy as np\n",
    "from transformers import AutoTokenizer\n",
    "\n",
    "tokenizer = AutoTokenizer.from_pretrained(\"potsawee/t5-large-generation-squad-QuestionAnswer\")\n",
    "\n",
    "sample_text = \"In the beginning, God created the heavens and the earth.\"\n",
    "inputs = tokenizer(sample_text, return_tensors=\"pt\")\n",
    "decoder_input_ids = torch.ones_like(inputs[\"input_ids\"])\n",
    "\n",
    "path = \"../onnx/default/potsawee.onnx\"\n",
    "output_names = [\"output\"]\n",
    "dynamic_axes = {\"input_ids\": {0: \"batch_size\", 1: \"seq_len\"}, \"attention_mask\": {0: \"batch_size\", 1: \"seq_len\"}, \"output\": {0: \"batch_size\", 1: \"seq_len\"}}\n",
    "\n",
    "\n",
    "session = ort.InferenceSession(path)\n"
   ]
  },
  {
   "cell_type": "code",
   "execution_count": 7,
   "metadata": {},
   "outputs": [
    {
     "name": "stdout",
     "output_type": "stream",
     "text": [
      "input_ids\n",
      "attention_mask\n",
      "output\n"
     ]
    }
   ],
   "source": [
    "print(session.get_inputs()[0].name)\n",
    "print(session.get_inputs()[1].name)\n",
    "print(session.get_outputs()[0].name)"
   ]
  },
  {
   "cell_type": "code",
   "execution_count": 8,
   "metadata": {},
   "outputs": [
    {
     "ename": "ValueError",
     "evalue": "Model requires 3 inputs. Input Feed contains 2",
     "output_type": "error",
     "traceback": [
      "\u001b[1;31m---------------------------------------------------------------------------\u001b[0m",
      "\u001b[1;31mValueError\u001b[0m                                Traceback (most recent call last)",
      "Cell \u001b[1;32mIn[8], line 1\u001b[0m\n\u001b[1;32m----> 1\u001b[0m outputs \u001b[39m=\u001b[39m session\u001b[39m.\u001b[39;49mrun(output_names, {\n\u001b[0;32m      2\u001b[0m   \u001b[39m'\u001b[39;49m\u001b[39minput_ids\u001b[39;49m\u001b[39m'\u001b[39;49m: inputs[\u001b[39m\"\u001b[39;49m\u001b[39minput_ids\u001b[39;49m\u001b[39m\"\u001b[39;49m]\u001b[39m.\u001b[39;49mnumpy(), \n\u001b[0;32m      3\u001b[0m   \u001b[39m'\u001b[39;49m\u001b[39mattention_mask\u001b[39;49m\u001b[39m'\u001b[39;49m:  inputs[\u001b[39m\"\u001b[39;49m\u001b[39mattention_mask\u001b[39;49m\u001b[39m\"\u001b[39;49m]\u001b[39m.\u001b[39;49mnumpy()\n\u001b[0;32m      4\u001b[0m   })\n",
      "File \u001b[1;32mc:\\Users\\mashu\\miniconda3\\envs\\aqg\\lib\\site-packages\\onnxruntime\\capi\\onnxruntime_inference_collection.py:196\u001b[0m, in \u001b[0;36mSession.run\u001b[1;34m(self, output_names, input_feed, run_options)\u001b[0m\n\u001b[0;32m    194\u001b[0m \u001b[39m# the graph may have optional inputs used to override initializers. allow for that.\u001b[39;00m\n\u001b[0;32m    195\u001b[0m \u001b[39mif\u001b[39;00m num_inputs \u001b[39m<\u001b[39m num_required_inputs:\n\u001b[1;32m--> 196\u001b[0m     \u001b[39mraise\u001b[39;00m \u001b[39mValueError\u001b[39;00m(\u001b[39m\"\u001b[39m\u001b[39mModel requires \u001b[39m\u001b[39m{}\u001b[39;00m\u001b[39m inputs. Input Feed contains \u001b[39m\u001b[39m{}\u001b[39;00m\u001b[39m\"\u001b[39m\u001b[39m.\u001b[39mformat(num_required_inputs, num_inputs))\n\u001b[0;32m    197\u001b[0m \u001b[39mif\u001b[39;00m \u001b[39mnot\u001b[39;00m output_names:\n\u001b[0;32m    198\u001b[0m     output_names \u001b[39m=\u001b[39m [output\u001b[39m.\u001b[39mname \u001b[39mfor\u001b[39;00m output \u001b[39min\u001b[39;00m \u001b[39mself\u001b[39m\u001b[39m.\u001b[39m_outputs_meta]\n",
      "\u001b[1;31mValueError\u001b[0m: Model requires 3 inputs. Input Feed contains 2"
     ]
    }
   ],
   "source": [
    "outputs = session.run(output_names, {\n",
    "  'input_ids': inputs[\"input_ids\"].numpy(), \n",
    "  'attention_mask':  inputs[\"attention_mask\"].numpy()\n",
    "  })\n"
   ]
  },
  {
   "cell_type": "code",
   "execution_count": null,
   "metadata": {},
   "outputs": [],
   "source": [
    "print(\"outputs: \", outputs)\n"
   ]
  },
  {
   "cell_type": "code",
   "execution_count": null,
   "metadata": {},
   "outputs": [],
   "source": [
    "result = outputs[0].argmax(axis=1)+1\n",
    "print(\"result: \", result)\n",
    "question_answer = tokenizer.decode(result[0], skip_special_tokens=False)\n",
    "print(question_answer)\n"
   ]
  }
 ],
 "metadata": {
  "kernelspec": {
   "display_name": "PBE_AQG",
   "language": "python",
   "name": "python3"
  },
  "language_info": {
   "codemirror_mode": {
    "name": "ipython",
    "version": 3
   },
   "file_extension": ".py",
   "mimetype": "text/x-python",
   "name": "python",
   "nbconvert_exporter": "python",
   "pygments_lexer": "ipython3",
   "version": "3.10.10"
  },
  "orig_nbformat": 4
 },
 "nbformat": 4,
 "nbformat_minor": 2
}
