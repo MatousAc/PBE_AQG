{
 "cells": [
  {
   "attachments": {},
   "cell_type": "markdown",
   "metadata": {},
   "source": [
    "## Transfer Learning and Model Research\n",
    "### Deciding on an Approach\n",
    "Various approaches can be used for transfer learning. One of the first ideas to explore is how transfer learning itself is done. There are papers on this topic, such as In their paper on Transfer Learning [An Embarrassingly Simple Approach for Transfer Learning from Pretrained Language Models](https://doi.org/10.48550/arXiv.1902.10547)  that explain the core of transfer learning and also the parts that you can play around with. Below I explore how transfer learning is actually accomplished.\n",
    "\n",
    "#### Similar Projects\n",
    "One way to get started is to check out other's projects. Here are several that seem quite similar to my goal:\n",
    "* [Simplifying Paragraph-level Question Generation via Transformer Language Models](https://paperswithcode.com/paper/transformer-based-end-to-end-question) uses GPT-2 Small as a base. Then trains on top and produces natural questions. This one is particularly good because it generates **extractive** questions and answers, which is exactly what PBE competitions are all about.\n",
    "* [Learning to Ask: Neural Question Generation for Reading Comprehension](https://paperswithcode.com/paper/learning-to-ask-neural-question-generation) is trained to ask questions. It avoids the rule-based approach and performs better on generating natural and complex questions than other approaches. This seems very promising.\n",
    "* [Neural Question Generation from Text: A Preliminary Study](https://paperswithcode.com/paper/neural-question-generation-from-text-a) uses [SQuAD](https://rajpurkar.github.io/SQuAD-explorer/) to generate \"fluent and diverse questions.\"\n",
    "* [Asking Questions the Human Way: Scalable Question-Answer Generation from Text Corpus](https://paperswithcode.com/paper/asking-questions-the-human-way-scalable) presents a seemingly successful question and answer generation project. However, running it looks difficult and there may be \"clues\" required to generate good questions.\n",
    "* [A BERT Baseline for Natural Questions](https://paperswithcode.com/dataset/natural-questions) this paper uses a natural question dataset. Unfortunately, it seems more interested in answering questions rather than asking them.\n",
    "* [ChatDoctor](http://www.yunxiangli.top/ChatDoctor/). This AI was trained on 220K conversations between doctors and patients to learn to converse and follow instructions. It was built on the the back of the Large Language Model Meta AI (LlaMA).\n",
    "* [Generating Natural Questions About an Image](https://paperswithcode.com/paper/generating-natural-questions-about-an-image) is a very cool paper with a cool dataset. However, it is not what I need for text AQG.\n",
    "* [Unified Language Model Pre-training for Natural Language Understanding and Generation](https://paperswithcode.com/paper/unified-language-model-pre-training-for) claims to do question generation with the [SQuAD](https://rajpurkar.github.io/SQuAD-explorer/) database. Doesn't seem quite right though.\n",
    "* \n",
    "\n",
    "#### Promising datasets\n",
    "* [TriviaQA](http://nlp.cs.washington.edu/triviaqa/) has questions, answers, and usually, a context paragraph.\n",
    "* The Stanford Question Answering Dataset ([SQuAD](https://rajpurkar.github.io/SQuAD-explorer/)) contains questions, answers, and usually, a context paragraph. This data could be used in an \"inverted\" way to generate questions.\n",
    "* [harvestingQA](https://github.com/xinyadu/harvestingQA/tree/master/dataset) is a question-answer dataset in SQuAD format.\n",
    "* [SciQ](https://paperswithcode.com/dataset/sciq) also contains questions, answers, and a supporting paragraph.\n",
    "* My own dataset of PBE questions.\n",
    "\n",
    "#### Promising models\n",
    "* [potsawee/t5-large-generation-squad-QuestionAnswer](https://huggingface.co/potsawee/t5-large-generation-squad-QuestionAnswer) generates questions but is not ideal\n",
    "* [patil-suraj/question_generation](https://github.com/patil-suraj/question_generation) seems like a state-of-the-art model, but it will probably require some coercing to get the question and answers out of it.\n",
    "* [abhitopia/question-answer-generation](https://huggingface.co/abhitopia/question-answer-generation) looks like a good model, but requires question generation\n",
    "\n",
    "#### Other things I have checked out\n",
    "* [QuestGen](https://app.questgen.ai/) markets itself as a quiz question generator, but it **does not** generate good questions for PBE. The questions tend to be way too abstract for PBE competitions."
   ]
  },
  {
   "attachments": {},
   "cell_type": "markdown",
   "metadata": {},
   "source": [
    "## Setup"
   ]
  },
  {
   "attachments": {},
   "cell_type": "markdown",
   "metadata": {},
   "source": [
    "### Packages and Imports"
   ]
  },
  {
   "attachments": {},
   "cell_type": "markdown",
   "metadata": {},
   "source": [
    "First I install pyTorch. It's weird that I have to do this to satisfy the jupyter notebook, as the package is already installed for my python environment locally, but this is what it takes."
   ]
  },
  {
   "cell_type": "code",
   "execution_count": 1,
   "metadata": {},
   "outputs": [
    {
     "name": "stdout",
     "output_type": "stream",
     "text": [
      "Requirement already satisfied: torch in c:\\users\\mashu\\appdata\\local\\programs\\python\\python311\\lib\\site-packages (2.0.0)\n",
      "Requirement already satisfied: filelock in c:\\users\\mashu\\appdata\\local\\programs\\python\\python311\\lib\\site-packages (from torch) (3.11.0)\n",
      "Requirement already satisfied: typing-extensions in c:\\users\\mashu\\appdata\\local\\programs\\python\\python311\\lib\\site-packages (from torch) (4.5.0)\n",
      "Requirement already satisfied: sympy in c:\\users\\mashu\\appdata\\local\\programs\\python\\python311\\lib\\site-packages (from torch) (1.11.1)\n",
      "Requirement already satisfied: networkx in c:\\users\\mashu\\appdata\\local\\programs\\python\\python311\\lib\\site-packages (from torch) (3.1)\n",
      "Requirement already satisfied: jinja2 in c:\\users\\mashu\\appdata\\local\\programs\\python\\python311\\lib\\site-packages (from torch) (3.1.2)\n",
      "Requirement already satisfied: MarkupSafe>=2.0 in c:\\users\\mashu\\appdata\\local\\programs\\python\\python311\\lib\\site-packages (from jinja2->torch) (2.1.2)\n",
      "Requirement already satisfied: mpmath>=0.19 in c:\\users\\mashu\\appdata\\local\\programs\\python\\python311\\lib\\site-packages (from sympy->torch) (1.3.0)\n"
     ]
    }
   ],
   "source": [
    "!pip install torch"
   ]
  },
  {
   "attachments": {},
   "cell_type": "markdown",
   "metadata": {},
   "source": [
    "This is a list of generally useful libraries for my project. I prefer to install them all at once so I can see them all and avoid circular dependencies."
   ]
  },
  {
   "cell_type": "code",
   "execution_count": 2,
   "metadata": {},
   "outputs": [
    {
     "name": "stderr",
     "output_type": "stream",
     "text": [
      "c:\\Users\\mashu\\AppData\\Local\\Programs\\Python\\Python311\\Lib\\site-packages\\tqdm\\auto.py:21: TqdmWarning: IProgress not found. Please update jupyter and ipywidgets. See https://ipywidgets.readthedocs.io/en/stable/user_install.html\n",
      "  from .autonotebook import tqdm as notebook_tqdm\n"
     ]
    }
   ],
   "source": [
    "import json\n",
    "import csv\n",
    "import pandas as pd\n",
    "# load transformers\n",
    "from transformers import AutoTokenizer, AutoModelForSeq2SeqLM, T5Config, T5ForConditionalGeneration, T5Tokenizer"
   ]
  },
  {
   "attachments": {},
   "cell_type": "markdown",
   "metadata": {},
   "source": [
    "### Importing data\n",
    "Next I will load my input data from `nkjv.json` and store it as a csv for easier access in the future."
   ]
  },
  {
   "cell_type": "code",
   "execution_count": 3,
   "metadata": {},
   "outputs": [],
   "source": [
    "# open the JSON file and load the data\n",
    "with open('nkjv.json') as f:\n",
    "  data = json.load(f)\n",
    "\n",
    "# open the CSV file for writing\n",
    "with open('nkjv.csv', 'w', newline='') as f:\n",
    "  writer = csv.writer(f)\n",
    "\n",
    "  # Write the header row\n",
    "  writer.writerow(['Book', 'ChapterNumber', 'VerseNumber', 'Verse'])\n",
    "\n",
    "  # Loop through the data and write each row to the CSV file\n",
    "  for book in data:\n",
    "    book_name = book['name']\n",
    "    for chapter_num, chapter in enumerate(book['chapters'], 1):\n",
    "      for verse in chapter['verses']:\n",
    "        verse_num = verse['num']\n",
    "        verse_text = verse['text']\n",
    "        writer.writerow([book_name, chapter_num, verse_num, verse_text])\n"
   ]
  },
  {
   "attachments": {},
   "cell_type": "markdown",
   "metadata": {},
   "source": [
    "Now I load the csv and then get started with some question generation."
   ]
  },
  {
   "cell_type": "code",
   "execution_count": 4,
   "metadata": {},
   "outputs": [
    {
     "data": {
      "text/html": [
       "<div>\n",
       "<style scoped>\n",
       "    .dataframe tbody tr th:only-of-type {\n",
       "        vertical-align: middle;\n",
       "    }\n",
       "\n",
       "    .dataframe tbody tr th {\n",
       "        vertical-align: top;\n",
       "    }\n",
       "\n",
       "    .dataframe thead th {\n",
       "        text-align: right;\n",
       "    }\n",
       "</style>\n",
       "<table border=\"1\" class=\"dataframe\">\n",
       "  <thead>\n",
       "    <tr style=\"text-align: right;\">\n",
       "      <th></th>\n",
       "      <th>Book</th>\n",
       "      <th>ChapterNumber</th>\n",
       "      <th>VerseNumber</th>\n",
       "      <th>Verse</th>\n",
       "    </tr>\n",
       "  </thead>\n",
       "  <tbody>\n",
       "    <tr>\n",
       "      <th>0</th>\n",
       "      <td>Genesis</td>\n",
       "      <td>1</td>\n",
       "      <td>1</td>\n",
       "      <td>In the beginning God created the heavens and t...</td>\n",
       "    </tr>\n",
       "    <tr>\n",
       "      <th>1</th>\n",
       "      <td>Genesis</td>\n",
       "      <td>1</td>\n",
       "      <td>2</td>\n",
       "      <td>The earth was without form, and void; and dark...</td>\n",
       "    </tr>\n",
       "    <tr>\n",
       "      <th>2</th>\n",
       "      <td>Genesis</td>\n",
       "      <td>1</td>\n",
       "      <td>3</td>\n",
       "      <td>Then God said, \"Let there be light\"; and there...</td>\n",
       "    </tr>\n",
       "    <tr>\n",
       "      <th>3</th>\n",
       "      <td>Genesis</td>\n",
       "      <td>1</td>\n",
       "      <td>4</td>\n",
       "      <td>And God saw the light, that it was good; and G...</td>\n",
       "    </tr>\n",
       "    <tr>\n",
       "      <th>4</th>\n",
       "      <td>Genesis</td>\n",
       "      <td>1</td>\n",
       "      <td>5</td>\n",
       "      <td>God called the light Day, and the darkness He ...</td>\n",
       "    </tr>\n",
       "  </tbody>\n",
       "</table>\n",
       "</div>"
      ],
      "text/plain": [
       "      Book  ChapterNumber  VerseNumber  \\\n",
       "0  Genesis              1            1   \n",
       "1  Genesis              1            2   \n",
       "2  Genesis              1            3   \n",
       "3  Genesis              1            4   \n",
       "4  Genesis              1            5   \n",
       "\n",
       "                                               Verse  \n",
       "0  In the beginning God created the heavens and t...  \n",
       "1  The earth was without form, and void; and dark...  \n",
       "2  Then God said, \"Let there be light\"; and there...  \n",
       "3  And God saw the light, that it was good; and G...  \n",
       "4  God called the light Day, and the darkness He ...  "
      ]
     },
     "execution_count": 4,
     "metadata": {},
     "output_type": "execute_result"
    }
   ],
   "source": [
    "nkjv = pd.read_csv('nkjv.csv')\n",
    "\n",
    "joshua = nkjv[nkjv['Book'] == 'Joshua']\n",
    "joshua1 = joshua[joshua['ChapterNumber'] == 1]\n",
    "joshua2 = joshua[joshua['ChapterNumber'] == 2]\n",
    "joshua3 = joshua[joshua['ChapterNumber'] == 3]\n",
    "joshua4 = joshua[joshua['ChapterNumber'] == 4]\n",
    "\n",
    "nkjv.head()"
   ]
  },
  {
   "attachments": {},
   "cell_type": "markdown",
   "metadata": {},
   "source": [
    "## Using Transformers and PyTorch with Existing Models\n",
    "I first try out what the paper \"[Simplifying Paragraph-level Question Generation via Transformer Language Models](https://paperswithcode.com/paper/transformer-based-end-to-end-question)\" with it's hugging-face packages as well as the T5 hugging-face packages for [Question Generation](https://huggingface.co/mrm8488/t5-base-finetuned-question-generation-ap) and [Q&A Generation](https://huggingface.co/potsawee/t5-large-generation-squad-QuestionAnswer).\n",
    "\n"
   ]
  },
  {
   "attachments": {},
   "cell_type": "markdown",
   "metadata": {},
   "source": [
    "I first define a few different functions that can generate questions"
   ]
  },
  {
   "cell_type": "code",
   "execution_count": 5,
   "metadata": {},
   "outputs": [],
   "source": [
    "# potsawee_T5 is a model taken from https://huggingface.co/potsawee/t5-large-generation-squad-QuestionAnswer\n",
    "potsawee_tokenizer = AutoTokenizer.from_pretrained(\"potsawee/t5-large-generation-squad-QuestionAnswer\")\n",
    "potsawee_model = AutoModelForSeq2SeqLM.from_pretrained(\"potsawee/t5-large-generation-squad-QuestionAnswer\")\n",
    "\n",
    "def potsawee_T5(text):\n",
    "  inputs = potsawee_tokenizer(text, return_tensors=\"pt\")\n",
    "  outputs = potsawee_model.generate(**inputs, max_length=100)\n",
    "  question_answer = potsawee_tokenizer.decode(outputs[0], skip_special_tokens=False)\n",
    "  question_answer = question_answer.replace(potsawee_tokenizer.pad_token, \"\").replace(potsawee_tokenizer.eos_token, \"\")\n",
    "  return question_answer.split(potsawee_tokenizer.sep_token)\n"
   ]
  },
  {
   "cell_type": "code",
   "execution_count": 6,
   "metadata": {},
   "outputs": [
    {
     "name": "stderr",
     "output_type": "stream",
     "text": [
      "c:\\Users\\mashu\\AppData\\Local\\Programs\\Python\\Python311\\Lib\\site-packages\\transformers\\generation\\utils.py:1288: UserWarning: Using `max_length`'s default (20) to control the generation length. This behaviour is deprecated and will be removed from the config in v5 of Transformers -- we recommend using `max_new_tokens` to control the maximum length of the generation.\n",
      "  warnings.warn(\n"
     ]
    },
    {
     "name": "stdout",
     "output_type": "stream",
     "text": [
      "['What is the name of the man who is a brotherly love?']\n"
     ]
    },
    {
     "name": "stderr",
     "output_type": "stream",
     "text": [
      "c:\\Users\\mashu\\AppData\\Local\\Programs\\Python\\Python311\\Lib\\site-packages\\transformers\\generation\\utils.py:1288: UserWarning: Using `max_length`'s default (20) to control the generation length. This behaviour is deprecated and will be removed from the config in v5 of Transformers -- we recommend using `max_new_tokens` to control the maximum length of the generation.\n",
      "  warnings.warn(\n"
     ]
    },
    {
     "name": "stdout",
     "output_type": "stream",
     "text": [
      "['What did He thank all fellow bloggers and organizations that showed support?']\n",
      "['Where is the Veliefendi Hippodrome located?']\n"
     ]
    },
    {
     "data": {
      "text/plain": [
       "['Where is the Veliefendi Hippodrome located?']"
      ]
     },
     "execution_count": 6,
     "metadata": {},
     "output_type": "execute_result"
    }
   ],
   "source": [
    "# allenai_t5 model from https://huggingface.co/allenai/t5-small-squad2-question-generation\n",
    "model_name = \"allenai/t5-small-squad2-question-generation\"\n",
    "allenai_t5_tokenizer = T5Tokenizer.from_pretrained(model_name)\n",
    "allenai_t5_model = T5ForConditionalGeneration.from_pretrained(model_name)\n",
    "\n",
    "def allenai_t5(input_string, **generator_args):\n",
    "    input_ids = allenai_t5_tokenizer.encode(input_string, return_tensors=\"pt\")\n",
    "    res = allenai_t5_model.generate(input_ids, **generator_args)\n",
    "    output = allenai_t5_tokenizer.batch_decode(res, skip_special_tokens=True)\n",
    "    print(output)\n",
    "    return output\n",
    "\n",
    "\n",
    "allenai_t5(\"shrouds herself in white and walks penitentially disguised as brotherly love through factories and parliaments; offers help, but desires power;\")\n",
    "allenai_t5(\"He thanked all fellow bloggers and organizations that showed support.\")\n",
    "allenai_t5(\"Races are held between April and December at the Veliefendi Hippodrome near Bakerky, 15 km (9 miles) west of Istanbul.\")\n"
   ]
  },
  {
   "cell_type": "code",
   "execution_count": 7,
   "metadata": {},
   "outputs": [
    {
     "name": "stdout",
     "output_type": "stream",
     "text": [
      "_____________potsawee_T5 model_____________\n",
      "Joshua 1:1: Now Joshua the son of Nun sent out two men from Acacia Grove to spy secretly, saying, \"Go, view the land, especially Jericho.\" So they went, and came to the house of a harlot named Rahab, and lodged there.\n",
      "Q:  Who sent out two men to spy?\n",
      "A:  Joshua the son of Nun\n",
      "Joshua 1:2: And it was told the king of Jericho, saying, \"Behold, men have come here tonight from the children of Israel to search out the country.\"\n",
      "Q:  Who was told that men had come from the children of Israel to search out the country?\n",
      "A:  the king of Jericho\n",
      "Joshua 1:3: So the king of Jericho sent to Rahab, saying, \"Bring out the men who have come to you, who have entered your house, for they have come to search out all the country.\"\n",
      "Q:  Who sent Rahab to bring out the men who had come to her?\n",
      "A:  the king of Jericho\n",
      "Joshua 1:4: Then the woman took the two men and hid them. So she said, \"Yes, the men came to me, but I did not know where they were from.\n",
      "Q:  What did the woman do with the men?\n",
      "A:  hid them\n",
      "Joshua 1:5: And it happened as the gate was being shut, when it was dark, that the men went out. Where the men went I do not know; pursue them quickly, for you may overtake them.\"\n",
      "Q:  What did the men do when the gate was being shut?\n",
      "A:  went out\n",
      "Joshua 1:6: (But she had brought them up to the roof and hidden them with the stalks of flax, which she had laid in order on the roof.)\n",
      "Q:  What did she hide them with?\n",
      "A:  stalks of flax\n",
      "Joshua 1:7: Then the men pursued them by the road to the Jordan, to the fords. And as soon as those who pursued them had gone out, they shut the gate.\n",
      "Q:  What did the men do when they pursued them?\n",
      "A:  they shut the gate\n",
      "Joshua 1:8: Now before they lay down, she came up to them on the roof,\n",
      "Q:  What did she do before they lay down?\n",
      "A:  she came up to them on the roof\n",
      "Joshua 1:9: and said to the men: \"I know that the LORD has given you the land, that the terror of you has fallen on us, and that all the inhabitants of the land are fainthearted because of you.\n",
      "Q:  Who gave the land to the men?\n",
      "A:  the LORD\n",
      "Joshua 1:10: For we have heard how the LORD dried up the water of the Red Sea for you when you came out of Egypt, and what you did to the two kings of the Amorites who were on the other side of the Jordan, Sihon and Og, whom you utterly destroyed.\n",
      "Q:  Who were the two kings of the Amorites on the other side of the Jordan?\n",
      "A:  Sihon and Og\n",
      "Joshua 1:11: And as soon as we heard these things, our hearts melted; neither did there remain any more courage in anyone because of you, for the LORD your God, He is God in heaven above and on earth beneath.\n",
      "Q:  Who is God in heaven above and on earth beneath?\n",
      "A:  the LORD your God\n",
      "Joshua 1:12: Now therefore, I beg you, swear to me by the LORD, since I have shown you kindness, that you also will show kindness to my father's house, and give me a true token,\n",
      "Q:  What do you swear to me by the LORD?\n",
      "A:  that you also will show kindness to my father's house\n",
      "Joshua 1:13: and spare my father, my mother, my brothers, my sisters, and all that they have, and deliver our lives from death.\"\n",
      "Q:  What did the Lord spare me from?\n",
      "A:  death\n",
      "Joshua 1:14: So the men answered her, \"Our lives for yours, if none of you tell this business of ours. And it shall be, when the LORD has given us the land, that we will deal kindly and truly with you.\"\n",
      "Q:  What did the men say to the woman?\n",
      "A:  Our lives for yours\n",
      "Joshua 1:15: Then she let them down by a rope through the window, for her house was on the city wall; she dwelt on the wall.\n",
      "Q:  What did she let them down by?\n",
      "A:  a rope\n",
      "Joshua 1:16: And she said to them, \"Get to the mountain, lest the pursuers meet you. Hide there three days, until the pursuers have returned. Afterward you may go your way.\"\n",
      "Q:  How long did they have to hide?\n",
      "A:  three days\n",
      "Joshua 1:17: So the men said to her: \"We will be blameless of this oath of yours which you have made us swear,\n",
      "Q:  What did the men say to her?\n",
      "A:  \"We will be blameless of this oath of yours which you have made us swear\n",
      "Joshua 1:18: unless, when we come into the land, you bind this line of scarlet cord in the window through which you let us down, and unless you bring your father, your mother, your brothers, and all your father's household to your own home.\n",
      "Q:  What do you have to do when you let us down?\n",
      "A:  bind this line of scarlet cord in the window through which you let us down\n",
      "Joshua 1:19: So it shall be that whoever goes outside the doors of your house into the street, his blood shall be on his own head, and we will be guiltless. And whoever is with you in the house, his blood shall be on our head if a hand is laid on him.\n",
      "Q:  Who is with you in the house?\n",
      "A:  his blood shall be on our head if a hand is laid on him\n",
      "Joshua 1:20: And if you tell this business of ours, then we will be free from your oath which you made us swear.\"\n",
      "Q:  What will happen if you tell us about our business?\n",
      "A:  we will be free from your oath\n",
      "Joshua 1:21: Then she said, \"According to your words, so be it.\" And she sent them away, and they departed. And she bound the scarlet cord in the window.\n",
      "Q:  What color cord did she tie in the window?\n",
      "A:  scarlet\n",
      "Joshua 1:22: They departed and went to the mountain, and stayed there three days until the pursuers returned. The pursuers sought them all along the way, but did not find them.\n",
      "Q:  How long did the pursuers stay on the mountain?\n",
      "A:  three days\n",
      "Joshua 1:23: So the two men returned, descended from the mountain, and crossed over; and they came to Joshua the son of Nun, and told him all that had befallen them.\n",
      "Q:  Who was the son of Nun?\n",
      "A:  Joshua\n",
      "Joshua 1:24: And they said to Joshua, \"Truly the LORD has delivered all the land into our hands, for indeed all the inhabitants of the country are fainthearted because of us.\"\n",
      "Q:  Who did Joshua say to?\n",
      "A:  the LORD\n",
      "_____________allenai_T5 model_____________\n",
      "Joshua 1:1: Now Joshua the son of Nun sent out two men from Acacia Grove to spy secretly, saying, \"Go, view the land, especially Jericho.\" So they went, and came to the house of a harlot named Rahab, and lodged there.\n",
      "['Who sent out two men from Acacia Grove to spy?']\n",
      "Q: Who sent out two men from Acacia Grove to spy?\n",
      "Joshua 1:2: And it was told the king of Jericho, saying, \"Behold, men have come here tonight from the children of Israel to search out the country.\"\n",
      "['Who was told that men have come from Israel to search out the country?']\n",
      "Q: Who was told that men have come from Israel to search out the country?\n",
      "Joshua 1:3: So the king of Jericho sent to Rahab, saying, \"Bring out the men who have come to you, who have entered your house, for they have come to search out all the country.\"\n",
      "['What did the king of Jericho send to Rahab?']\n",
      "Q: What did the king of Jericho send to Rahab?\n",
      "Joshua 1:4: Then the woman took the two men and hid them. So she said, \"Yes, the men came to me, but I did not know where they were from.\n",
      "['What did the woman take the men and hid them?']\n",
      "Q: What did the woman take the men and hid them?\n",
      "Joshua 1:5: And it happened as the gate was being shut, when it was dark, that the men went out. Where the men went I do not know; pursue them quickly, for you may overtake them.\"\n",
      "['What happened as the gate was shut?']\n",
      "Q: What happened as the gate was shut?\n",
      "Joshua 1:6: (But she had brought them up to the roof and hidden them with the stalks of flax, which she had laid in order on the roof.)\n",
      "['What was the stalk of flax that she had laid in order on the roof?']\n",
      "Q: What was the stalk of flax that she had laid in order on the roof?\n",
      "Joshua 1:7: Then the men pursued them by the road to the Jordan, to the fords. And as soon as those who pursued them had gone out, they shut the gate.\n",
      "['What road did the men pursue them?']\n",
      "Q: What road did the men pursue them?\n",
      "Joshua 1:8: Now before they lay down, she came up to them on the roof,\n",
      "['What was the name of the person who came up to them?']\n",
      "Q: What was the name of the person who came up to them?\n",
      "Joshua 1:9: and said to the men: \"I know that the LORD has given you the land, that the terror of you has fallen on us, and that all the inhabitants of the land are fainthearted because of you.\n",
      "['What did the LORD give you?']\n",
      "Q: What did the LORD give you?\n",
      "Joshua 1:10: For we have heard how the LORD dried up the water of the Red Sea for you when you came out of Egypt, and what you did to the two kings of the Amorites who were on the other side of the Jordan, Sihon and Og, whom you utterly destroyed.\n",
      "['What did the LORD do to the two kings of the Amorites who were on']\n",
      "Q: What did the LORD do to the two kings of the Amorites who were on\n",
      "Joshua 1:11: And as soon as we heard these things, our hearts melted; neither did there remain any more courage in anyone because of you, for the LORD your God, He is God in heaven above and on earth beneath.\n",
      "['What did you say to the LORD?']\n",
      "Q: What did you say to the LORD?\n",
      "Joshua 1:12: Now therefore, I beg you, swear to me by the LORD, since I have shown you kindness, that you also will show kindness to my father's house, and give me a true token,\n",
      "['What is the name of the LORD?']\n",
      "Q: What is the name of the LORD?\n",
      "Joshua 1:13: and spare my father, my mother, my brothers, my sisters, and all that they have, and deliver our lives from death.\"\n",
      "['What is the name of my father, my mother, my brothers, my sisters, and all']\n",
      "Q: What is the name of my father, my mother, my brothers, my sisters, and all\n",
      "Joshua 1:14: So the men answered her, \"Our lives for yours, if none of you tell this business of ours. And it shall be, when the LORD has given us the land, that we will deal kindly and truly with you.\"\n",
      "['What did the men answered her?']\n",
      "Q: What did the men answered her?\n",
      "Joshua 1:15: Then she let them down by a rope through the window, for her house was on the city wall; she dwelt on the wall.\n",
      "['What was the name of the house she let down?']\n",
      "Q: What was the name of the house she let down?\n",
      "Joshua 1:16: And she said to them, \"Get to the mountain, lest the pursuers meet you. Hide there three days, until the pursuers have returned. Afterward you may go your way.\"\n",
      "['What did the pursuers say to them?']\n",
      "Q: What did the pursuers say to them?\n",
      "Joshua 1:17: So the men said to her: \"We will be blameless of this oath of yours which you have made us swear,\n",
      "['What men said to her: \"We will be blameless of this oath of']\n",
      "Q: What men said to her: \"We will be blameless of this oath of\n",
      "Joshua 1:18: unless, when we come into the land, you bind this line of scarlet cord in the window through which you let us down, and unless you bring your father, your mother, your brothers, and all your father's household to your own home.\n",
      "['What is the name of the cord that you bind in the window through which you let us']\n",
      "Q: What is the name of the cord that you bind in the window through which you let us\n",
      "Joshua 1:19: So it shall be that whoever goes outside the doors of your house into the street, his blood shall be on his own head, and we will be guiltless. And whoever is with you in the house, his blood shall be on our head if a hand is laid on him.\n",
      "['What is the blood of whoever goes outside the doors of your house into the street?']\n",
      "Q: What is the blood of whoever goes outside the doors of your house into the street?\n",
      "Joshua 1:20: And if you tell this business of ours, then we will be free from your oath which you made us swear.\"\n",
      "['What business does this business of ours do?']\n",
      "Q: What business does this business of ours do?\n",
      "Joshua 1:21: Then she said, \"According to your words, so be it.\" And she sent them away, and they departed. And she bound the scarlet cord in the window.\n",
      "['What did she say to the scarlet cord?']\n",
      "Q: What did she say to the scarlet cord?\n",
      "Joshua 1:22: They departed and went to the mountain, and stayed there three days until the pursuers returned. The pursuers sought them all along the way, but did not find them.\n",
      "['What did the pursuers seek?']\n",
      "Q: What did the pursuers seek?\n",
      "Joshua 1:23: So the two men returned, descended from the mountain, and crossed over; and they came to Joshua the son of Nun, and told him all that had befallen them.\n",
      "['What did Joshua say to Joshua?']\n",
      "Q: What did Joshua say to Joshua?\n",
      "Joshua 1:24: And they said to Joshua, \"Truly the LORD has delivered all the land into our hands, for indeed all the inhabitants of the country are fainthearted because of us.\"\n",
      "['What did the LORD say to Joshua?']\n",
      "Q: What did the LORD say to Joshua?\n"
     ]
    }
   ],
   "source": [
    "# Loop through every chapter and verse in Joshua 2\n",
    "print(\"_____________potsawee_T5 model_____________\")\n",
    "for index, row in joshua2.iterrows():\n",
    "  num = row['VerseNumber']\n",
    "  context = row['Verse']\n",
    "  print(f\"Joshua 1:{num}: {context}\")\n",
    "  question, answer = potsawee_T5(context)\n",
    "\n",
    "  print(\"Q:\", question)\n",
    "  print(\"A:\", answer)\n",
    "\n",
    "print(\"_____________allenai_T5 model_____________\")\n",
    "for index, row in joshua2.iterrows():\n",
    "  num = row['VerseNumber']\n",
    "  context = row['Verse']\n",
    "  print(f\"Joshua 1:{num}: {context}\")\n",
    "  questions = allenai_t5(context)\n",
    "  for question in questions:\n",
    "    print(\"Q:\", question)\n"
   ]
  },
  {
   "attachments": {},
   "cell_type": "markdown",
   "metadata": {},
   "source": [
    "As we can see above, the questions generated are not ideal. However, no other models seem better. The potsawee_t5 model seems to create more relevant questions than the allenai_t5 and the allenai_t5 does not produce answers, so I will try to work with the potsawee_t5. See [`transferLearningModel.ipynb`](transferLearningModel.ipynb) for the creation of a new model and for results."
   ]
  }
 ],
 "metadata": {
  "kernelspec": {
   "display_name": "Python 3",
   "language": "python",
   "name": "python3"
  },
  "language_info": {
   "codemirror_mode": {
    "name": "ipython",
    "version": 3
   },
   "file_extension": ".py",
   "mimetype": "text/x-python",
   "name": "python",
   "nbconvert_exporter": "python",
   "pygments_lexer": "ipython3",
   "version": "3.11.3"
  },
  "orig_nbformat": 4
 },
 "nbformat": 4,
 "nbformat_minor": 2
}
